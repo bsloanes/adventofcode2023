{
 "cells": [
  {
   "cell_type": "code",
   "execution_count": 43,
   "id": "32d6b0dd-921d-4973-a241-066d488b6265",
   "metadata": {
    "tags": []
   },
   "outputs": [
    {
     "name": "stdout",
     "output_type": "stream",
     "text": [
      "54951\n"
     ]
    }
   ],
   "source": [
    "#part 1\n",
    "import re\n",
    "\n",
    "with open('day1.txt') as file:\n",
    "    theLines = [theLine.rstrip() for theLine in file]\n",
    "#print(type(theLines[0]))\n",
    "\n",
    "sumArray = []\n",
    "for i in range(len(theLines)):\n",
    "    first = re.search(r'\\d+', theLines[i])\n",
    "    fList = list(first.group())\n",
    "    second = re.findall(r'\\d+', theLines[i])[-1]\n",
    "    sList = list(second)\n",
    "    conCat = fList[0]+ sList[-1]\n",
    "    sumArray.append(int(conCat))\n",
    "    #print(fList[0]+ sList[-1])\n",
    "print(sum(sumArray))"
   ]
  },
  {
   "cell_type": "code",
   "execution_count": 44,
   "id": "0d94d5df-7f76-476d-a7cb-d821f93bc54e",
   "metadata": {
    "tags": []
   },
   "outputs": [
    {
     "name": "stdout",
     "output_type": "stream",
     "text": [
      "55218\n"
     ]
    }
   ],
   "source": [
    "#part 2\n",
    "import re\n",
    "\n",
    "with open('day1.txt') as file:\n",
    "    theLines = [theLine.rstrip() for theLine in file]\n",
    "\n",
    "for k in range(len(theLines)):\n",
    "    for old, new in {\"oneight\": \"oneeight\", \"twone\": \"twoone\", \"sevenine\": \"sevennine\", \"threeight\": \"threeeight\", \"fiveight\": \"fiveeight\", \"eightwo\": \"eighttwo\", \"eighthree\": \"eightthree\", \"nineight\": \"nineeight\"}.items():\n",
    "        theLines[k] = theLines[k].replace(old,new)\n",
    "\n",
    "\n",
    "\n",
    "toAdd = []\n",
    "for i in range(len(theLines)):\n",
    "    for word, numEro in {\"one\": \"1\", \"two\": \"2\", \"three\": \"3\", \"four\": \"4\", \"five\": \"5\", \"six\": \"6\", \"seven\": \"7\", \"eight\": \"8\",\n",
    "        \"nine\": \"9\"}.items():\n",
    "    #print(\"old lines: \" + theLines[i])\n",
    "        theLines[i] = theLines[i].replace(word.lower(),numEro)\n",
    "    #print(\"new lines: \" + theLines[i])\n",
    "    first = re.search(r'\\d+', theLines[i])\n",
    "    flIst = list(first.group())\n",
    "    seCond = re.findall(r'\\d+', theLines[i])[-1]\n",
    "    slIst = list(seCond)\n",
    "    newEntry = flIst[0]+ slIst[-1]\n",
    "    toAdd.append(int(newEntry))\n",
    "    #print(flIst[0]+ slIst[-1])\n",
    "\n",
    "print(sum(toAdd))"
   ]
  },
  {
   "cell_type": "code",
   "execution_count": null,
   "id": "c659dc26-a110-4921-8771-248a00b42eaa",
   "metadata": {},
   "outputs": [],
   "source": []
  }
 ],
 "metadata": {
  "kernelspec": {
   "display_name": "Python 3 (ipykernel)",
   "language": "python",
   "name": "python3"
  },
  "language_info": {
   "codemirror_mode": {
    "name": "ipython",
    "version": 3
   },
   "file_extension": ".py",
   "mimetype": "text/x-python",
   "name": "python",
   "nbconvert_exporter": "python",
   "pygments_lexer": "ipython3",
   "version": "3.11.5"
  }
 },
 "nbformat": 4,
 "nbformat_minor": 5
}
