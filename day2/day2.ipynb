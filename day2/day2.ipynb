{
 "cells": [
  {
   "cell_type": "code",
   "execution_count": 105,
   "id": "3ad21288-c6e7-41aa-baba-c596ed69d821",
   "metadata": {
    "tags": []
   },
   "outputs": [
    {
     "name": "stdout",
     "output_type": "stream",
     "text": [
      "2476 54911\n"
     ]
    }
   ],
   "source": [
    "import re\n",
    "import numpy as np \n",
    "with open('day2.txt') as file:\n",
    "    theLines = [theLine.rstrip() for theLine in file]\n",
    "\n",
    "gameNumbers = []\n",
    "powers = []\n",
    "for i in range(len(theLines)):\n",
    "    #format between game no and rest of data\n",
    "    theLines[i] = theLines[i].replace(\";\",\",\")\n",
    "    theLines[i] = theLines[i].replace(\":\",\",\")\n",
    "    theLines[i] = theLines[i].split(\",\")\n",
    "    numbEr = (re.search(r'\\d+', theLines[i][0]))\n",
    "    gameNo = list(numbEr.group())\n",
    "    theLines[i] = ''.join(theLines[i])\n",
    "    #print(''.join(gameNo)) #game number\n",
    "    \n",
    "    #format to get rest of data\n",
    "    theLines[i] = theLines[i].replace(\",\",\"\")\n",
    "    #print(theLines[i])\n",
    "    \n",
    "    #find data on greens, blues, and reds\n",
    "    greens = re.compile(r'\\d+\\s*green')\n",
    "    blues = re.compile(r'\\d+\\s*blue')\n",
    "    reds = re.compile(r'\\d+\\s*red')\n",
    "    listG = greens.findall(theLines[i])\n",
    "    listB = blues.findall(theLines[i])\n",
    "    listR = reds.findall(theLines[i])\n",
    "    currentG = []\n",
    "    currentB = []\n",
    "    currentR = []\n",
    "    \n",
    "    # get numbers for each green, red, and blue for each game\n",
    "    for k in range(len(greens.findall(theLines[i]))):\n",
    "        amountG = (re.search(r'\\d+', listG[k]))\n",
    "        currentG.append(''.join(list(amountG.group())))\n",
    "        #print(''.join(list(amountG.group())))\n",
    "    \n",
    "    for l in range(len(blues.findall(theLines[i]))):    \n",
    "        amountB = (re.search(r'\\d+', listB[l]))\n",
    "        currentB.append(''.join(list(amountB.group())))\n",
    "     \n",
    "    for m in range(len(reds.findall(theLines[i]))):\n",
    "        amountR = (re.search(r'\\d+', listR[m]))\n",
    "        currentR.append(''.join(list(amountR.group())))\n",
    "    \n",
    "    greener = np.array(currentG)\n",
    "    bluer = np.array(currentB)\n",
    "    redder = np.array(currentR)\n",
    "    \n",
    "    #print(greener, bluer, redder)\n",
    "    \n",
    "    greenest = [int(eG) for eG in greener]\n",
    "    bluest = [int(eB) for eB in bluer]\n",
    "    reddest = [int(eR) for eR in redder]\n",
    "    poweR = max(greenest) * max(bluest) * max(reddest)\n",
    "    powers.append(poweR)\n",
    "    \n",
    "    #print(greenest, bluest, reddest)\n",
    "    #check that green \\leq 13, blue \\leq 14, and red \\leq 12\n",
    "    if (all(g <= 13 for g in greenest) and all(b <= 14 for b in bluest) and all(r <= 12 for r in reddest)):\n",
    "        #print(''.join(gameNo))\n",
    "        #print(''.join(gameNo), \":\", greenest, bluest, reddest)\n",
    "        gameNumbers.append(int(''.join(gameNo)))\n",
    "        \n",
    "print(sum(gameNumbers), sum(powers))# part 1 answer, part 2 answer \n",
    "                   "
   ]
  },
  {
   "cell_type": "code",
   "execution_count": null,
   "id": "e60ed5d2-65e8-4bbe-9481-b210f659606c",
   "metadata": {},
   "outputs": [],
   "source": []
  },
  {
   "cell_type": "code",
   "execution_count": null,
   "id": "3b2e456a-f5d3-4b30-8884-f37572a3c542",
   "metadata": {},
   "outputs": [],
   "source": []
  },
  {
   "cell_type": "code",
   "execution_count": null,
   "id": "15f04ca0-8010-402b-81a4-76809e3402df",
   "metadata": {},
   "outputs": [],
   "source": []
  }
 ],
 "metadata": {
  "kernelspec": {
   "display_name": "Python 3 (ipykernel)",
   "language": "python",
   "name": "python3"
  },
  "language_info": {
   "codemirror_mode": {
    "name": "ipython",
    "version": 3
   },
   "file_extension": ".py",
   "mimetype": "text/x-python",
   "name": "python",
   "nbconvert_exporter": "python",
   "pygments_lexer": "ipython3",
   "version": "3.11.5"
  }
 },
 "nbformat": 4,
 "nbformat_minor": 5
}
